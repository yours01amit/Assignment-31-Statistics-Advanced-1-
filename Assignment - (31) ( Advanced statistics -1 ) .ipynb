{
 "cells": [
  {
   "cell_type": "markdown",
   "id": "7d729571",
   "metadata": {},
   "source": [
    "# Q1. What is the Probability density function?\n",
    "\n",
    "Ans: \n",
    "In probability theory and statistics, the probability density function (PDF) is a function that describes the relative likelihood of a random variable taking on a specific value or falling within a certain range of values. The PDF represents the continuous counterpart to the probability mass function (PMF) for discrete random variables.\n",
    "\n",
    "For a continuous random variable, the PDF is defined as the derivative of the cumulative distribution function (CDF) with respect to the variable. In mathematical terms, if X is a continuous random variable, the PDF of X, denoted as f(x), is given by:\n",
    "\n",
    "f(x) = d/dx F(x)\n",
    "\n",
    "where F(x) is the CDF of X. Intuitively, the PDF at a specific value x represents the slope of the CDF at that point, indicating the probability of the random variable taking on a value near x.\n",
    "\n",
    "Properties of the PDF:\n",
    "\n",
    "The PDF is always non-negative, meaning that f(x) ≥ 0 for all x.\n",
    "The total area under the PDF curve over the entire range of values is equal to 1, indicating that the probability of the random variable taking any value within the range is 1.\n",
    "The PDF can be used to calculate the probability of the random variable falling within a specific interval by integrating the PDF over that interval.\n",
    "The PDF is a fundamental concept in probability and statistics, and it plays a crucial role in various statistical analyses and modeling techniques, such as hypothesis testing, estimation, and regression analysis."
   ]
  },
  {
   "cell_type": "markdown",
   "id": "1d0a3ecb",
   "metadata": {},
   "source": [
    "# Q2. What are the types of Probability distribution?\n",
    "\n",
    "Ans: There are several types of probability distributions, each with its own characteristics and applications. Here are some commonly encountered probability distributions:\n",
    "\n",
    "* Uniform Distribution: In this distribution, all outcomes in a given range are equally likely. The probability density function is constant within the range and zero outside it.\n",
    "\n",
    "* Normal Distribution (Gaussian Distribution): The normal distribution is a continuous probability distribution that is symmetric and bell-shaped. It is widely used in statistical analysis due to the central limit theorem. The distribution is fully described by its mean and standard deviation.\n",
    "\n",
    "* Binomial Distribution: The binomial distribution describes the number of successes in a fixed number of independent Bernoulli trials, where each trial has the same probability of success. It is characterized by two parameters: the number of trials and the probability of success.\n",
    "\n",
    "* Poisson Distribution: The Poisson distribution models the number of events occurring in a fixed interval of time or space. It is often used to model rare events that occur independently with a constant average rate.\n",
    "\n",
    "* Exponential Distribution: The exponential distribution describes the time between events in a Poisson process, where events occur continuously and independently at a constant rate.\n",
    "\n",
    "* Bernoulli distribution: The Bernoulli distribution is a discrete probability distribution that models a single binary experiment or trial with two possible outcomes: success (typically denoted as 1) or failure (typically denoted as 0). \n",
    "\n",
    "* log-normal distribution: The log-normal distribution is a continuous probability distribution of a random variable whose logarithm follows a normal distribution. It is called \"log-normal\" because taking the logarithm of the random variable results in a normal distribution.\n",
    "If X is a log-normally distributed random variable, its probability density function (PDF) is given by:\n",
    "\n",
    "f(x) = (1 / (x * σ * √(2π))) * e^(-(ln(x) - μ)^2 / (2 * σ^2))\n",
    "\n",
    "where x > 0, μ is the mean of the natural logarithm of X, and σ is the standard deviation of the natural logarithm of X."
   ]
  },
  {
   "cell_type": "markdown",
   "id": "f5a04425",
   "metadata": {},
   "source": [
    "# Q3. Write a Python function to calculate the probability density function of a normal distribution with given mean and standard deviation at a given point.\n",
    "\n",
    "Ans: here is the Python function to calculate the probability density function of a normal distribution with given mean and standard deviation at a given point:"
   ]
  },
  {
   "cell_type": "code",
   "execution_count": 2,
   "id": "3003c7fd",
   "metadata": {},
   "outputs": [
    {
     "name": "stdout",
     "output_type": "stream",
     "text": [
      "0.24197072451914337\n"
     ]
    }
   ],
   "source": [
    "import math\n",
    "\n",
    "def normal_pdf(x, mean, std):\n",
    "  \"\"\"\n",
    "  Calculates the probability density function of a normal distribution with given mean and standard deviation at a given point.\n",
    "\n",
    "  Args:\n",
    "    x: The point at which to evaluate the PDF.\n",
    "    mean: The mean of the normal distribution.\n",
    "    std: The standard deviation of the normal distribution.\n",
    "\n",
    "  Returns:\n",
    "    The probability density function at x.\n",
    "  \"\"\"\n",
    "\n",
    "  exponent = -(math.pow(x - mean, 2) / (2 * math.pow(std, 2)))\n",
    "  pdf = 1 / (math.sqrt(2 * math.pi) * std) * math.exp(exponent)\n",
    "  return pdf\n",
    "\n",
    "if __name__ == \"__main__\":\n",
    "  mean = 0\n",
    "  std = 1\n",
    "  x = 1\n",
    "  pdf = normal_pdf(x, mean, std)\n",
    "  print(pdf)"
   ]
  },
  {
   "cell_type": "markdown",
   "id": "f9083e12",
   "metadata": {},
   "source": [
    "This function takes three arguments:\n",
    "\n",
    "x: The point at which to evaluate the PDF.\n",
    "* mean: The mean of the normal distribution.\n",
    "* std: The standard deviation of the normal distribution.\n",
    "* The function returns the probability density function at x."
   ]
  },
  {
   "cell_type": "markdown",
   "id": "c669bcfc",
   "metadata": {},
   "source": [
    "# Q4. What are the properties of Binomial distribution? Give two examples of events where binomial distribution can be applied.\n",
    "\n",
    "Ans:The Binomial distribution is a discrete probability distribution that models the number of successes in a fixed number of independent Bernoulli trials, where each trial has two possible outcomes: success or failure. The Binomial distribution has the following properties:\n",
    "\n",
    "* 1. Fixed Number of Trials: The number of trials, denoted by 'n,' must be fixed in advance. Each trial is independent of the others.\n",
    "\n",
    "* 2. Two Outcomes: Each trial can result in one of two outcomes: success (usually denoted by 'S') with probability 'p' or failure (usually denoted by 'F') with probability 'q,' where 'q = 1 - p.'\n",
    "\n",
    "* 3. Independence: The outcomes of the trials are independent of each other. The result of one trial does not affect the outcome of another trial.\n",
    "\n",
    "* 4.Constant Probability: The probability of success 'p' remains constant throughout all trials.\n",
    "\n",
    "* 5.Discrete Distribution: The Binomial distribution is a discrete probability distribution, as it deals with counting the number of successes, which is a whole number.\n",
    "\n",
    "* 6.Probability Mass Function (PMF): The probability of getting 'k' successes in 'n' trials is given by the binomial probability mass function:\n",
    "\n",
    "* Coin Tosses: When flipping a fair coin (where heads is a success and tails is a failure), the number of heads in a fixed number of tosses follows a Binomial distribution. For example, the probability of getting exactly 'k' heads in 10 coin tosses.\n",
    "\n",
    "* Product Quality Control: In manufacturing, the quality of products often follows a Binomial distribution. For instance, consider testing a batch of items, where each item can either pass quality control (success) or fail quality control (failure). The number of items that pass quality control in a fixed batch size can be modeled using the Binomial distribution."
   ]
  },
  {
   "cell_type": "markdown",
   "id": "f04a4cd7",
   "metadata": {},
   "source": [
    "# Q5. Generate a random sample of size 1000 from a binomial distribution with probability of success 0.4 and plot a histogram of the results using matplotlib.\n",
    "\n",
    "Ans:  Here is the Python code to generate a random sample of size 1000 from a binomial distribution with probability of success 0.4 and plot a histogram of the results using matplotlib:"
   ]
  },
  {
   "cell_type": "code",
   "execution_count": 4,
   "id": "eff2416a",
   "metadata": {},
   "outputs": [
    {
     "data": {
      "image/png": "[encoded data removed]",
      "text/plain": [
       "<Figure size 640x480 with 1 Axes>"
      ]
     },
     "metadata": {},
     "output_type": "display_data"
    }
   ],
   "source": [
    "import numpy as np\n",
    "import matplotlib.pyplot as plt\n",
    "\n",
    "# Set the probability of success (p) and the sample size\n",
    "p = 0.4\n",
    "sample_size = 1000\n",
    "\n",
    "# Generate the random sample from the binomial distribution\n",
    "random_sample = np.random.binomial(n=1, p=p, size=sample_size)\n",
    "\n",
    "# Plot the histogram\n",
    "plt.hist(random_sample, bins=20, align='left', rwidth=0.8)\n",
    "plt.xticks([0,1],['Failure','Success'])\n",
    "plt.xlabel('Number of successes')\n",
    "plt.ylabel('Frequency')\n",
    "plt.title('Binomial Distribution Random Sample')\n",
    "plt.show()"
   ]
  },
  {
   "cell_type": "markdown",
   "id": "b59af759",
   "metadata": {},
   "source": [
    "# Q6. Write a Python function to calculate the cumulative distribution function of a Poisson distribution with given mean at a given point.\n",
    "\n",
    "Ans: Here is the Python function to calculate the cumulative distribution function of a Poisson distribution with given mean at a given point:"
   ]
  },
  {
   "cell_type": "code",
   "execution_count": 5,
   "id": "5ecab5ff",
   "metadata": {},
   "outputs": [
    {
     "name": "stdout",
     "output_type": "stream",
     "text": [
      "0.4060058497098381\n"
     ]
    }
   ],
   "source": [
    "import math\n",
    "\n",
    "def poisson_cdf(mean, point):\n",
    "  \"\"\"\n",
    "  Calculates the cumulative distribution function of a Poisson distribution with given mean at a given point.\n",
    "\n",
    "  Args:\n",
    "    mean: The mean of the Poisson distribution.\n",
    "    point: The point at which to evaluate the CDF.\n",
    "\n",
    "  Returns:\n",
    "    The cumulative distribution function at point.\n",
    "  \"\"\"\n",
    "\n",
    "  cdf = 0\n",
    "  for k in range(point + 1):\n",
    "    cdf += math.exp(-mean) * (mean**k) / math.factorial(k)\n",
    "\n",
    "  return cdf\n",
    "\n",
    "if __name__ == \"__main__\":\n",
    "  mean = 2\n",
    "  point = 1\n",
    "  cdf = poisson_cdf(mean, point)\n",
    "  print(cdf)"
   ]
  },
  {
   "cell_type": "markdown",
   "id": "2ef9c797",
   "metadata": {},
   "source": [
    "# Q7. How Binomial distribution different from Poisson distribution?\n",
    "\n",
    "Ans: The Binomial distribution and Poisson distribution are two distinct probability distributions that are used to model different types of events. Here are the main differences between them:\n",
    "\n",
    "# 1.Nature of Events:\n",
    "\n",
    "* Binomial Distribution: The Binomial distribution is used to model the number of successes in a fixed number of independent Bernoulli trials, where each trial has two possible outcomes: success or failure.\n",
    "\n",
    "* Poisson Distribution: The Poisson distribution is used to model the number of events that occur in a fixed interval of time or space, where the events are rare and occur independently.\n",
    "\n",
    "# 2.Number of Trials (Events):\n",
    "\n",
    "* Binomial Distribution: The Binomial distribution requires a fixed number of trials (or events) denoted by 'n.' The number of successes in these 'n' trials is the random variable of interest.\n",
    "\n",
    "* Poisson Distribution: The Poisson distribution deals with the count of events within a fixed interval, but it does not require a predefined number of trials. Instead, it focuses on the number of occurrences of a specific event in a given time or space.\n",
    "\n",
    "# 3.Outcomes:\n",
    "\n",
    "* Binomial Distribution: Each trial in the Binomial distribution has only two possible outcomes: success or failure.\n",
    "\n",
    "* Poisson Distribution: The Poisson distribution can have multiple outcomes, representing the count of events in a given interval.\n",
    "\n",
    "# 4.Probability of Success:\n",
    "\n",
    "* Binomial Distribution: In the Binomial distribution, the probability of success (denoted by 'p') remains constant across all trials.\n",
    "\n",
    "* Poisson Distribution: The Poisson distribution does not have a probability of success in the same sense as the Binomial distribution. Instead, it uses the parameter 'lambda' (λ) to represent the average rate of events per unit of time or space.\n",
    "\n",
    "# 5.Dependency:\n",
    "\n",
    "* Binomial Distribution: The trials in the Binomial distribution are assumed to be independent, meaning the outcome of one trial does not affect the outcome of another.\n",
    "\n",
    "* Poisson Distribution: The events in the Poisson distribution are also assumed to be independent, meaning the occurrence of one event does not affect the occurrence of another within the given interval.\n",
    "\n",
    "# 6.Distribution Shape:\n",
    "\n",
    "* Binomial Distribution: The Binomial distribution is discrete and symmetric when 'p' is equal to 0.5. As 'p' deviates from 0.5, the distribution becomes skewed.\n",
    "\n",
    "* Poisson Distribution: The Poisson distribution is also discrete but is typically right-skewed."
   ]
  },
  {
   "cell_type": "markdown",
   "id": "c90a4f2f",
   "metadata": {},
   "source": [
    "# Q8. Generate a random sample of size 1000 from a Poisson distribution with mean 5 and calculate the sample mean and variance.\n",
    "\n",
    "Ans: Here is the code to generate a random sample of size 1000 from a Poisson distribution with mean 5 and calculate the sample mean and variance:"
   ]
  },
  {
   "cell_type": "code",
   "execution_count": 6,
   "id": "b29c981f",
   "metadata": {},
   "outputs": [
    {
     "name": "stdout",
     "output_type": "stream",
     "text": [
      "Sample mean: 4.985\n",
      "Sample variance: 4.800775\n"
     ]
    }
   ],
   "source": [
    "import numpy as np\n",
    "\n",
    "sample_size = 1000\n",
    "mean_poisson = 5\n",
    "# Generate a random sample of size 1000 from a Poisson distribution with mean 5\n",
    "sample = np.random.poisson(mean_poisson, sample_size)\n",
    "\n",
    "# Calculate the sample mean and variance\n",
    "sample_mean = np.mean(sample)\n",
    "sample_variance = np.var(sample)\n",
    "\n",
    "print(\"Sample mean:\", sample_mean)\n",
    "print(\"Sample variance:\", sample_variance)"
   ]
  },
  {
   "cell_type": "markdown",
   "id": "70eb91ce",
   "metadata": {},
   "source": [
    "# Q9. How mean and variance are related in Binomial distribution and Poisson distribution?\n",
    "\n",
    "Ans: In the Binomial distribution, the mean is equal to the product of the number of trials and the probability of success in each trial. Specifically, if we have n independent trials each with a probability of success p, then the mean of the Binomial distribution is:\n",
    "\n",
    "## mean = n * p\n",
    "\n",
    "n is the number of trials\n",
    "p is the probability of success\n",
    "\n",
    "* The variance of the Binomial distribution is given by:\n",
    "\n",
    "## variance = n * P(1-p)\n",
    "\n",
    "* In the Poisson distribution, the mean is equal to the parameter λ. Specifically, if we have a Poisson distribution with parameter λ, then the mean of the distribution is:\n",
    "\n",
    "## mean = λ\n",
    "\n",
    "* The variance of the Poisson distribution is also equal to the parameter λ. Specifically, the variance of the Poisson distribution is:\n",
    "\n",
    "## variance =  λ\n",
    "\n",
    "Thus, in both the Binomial and Poisson distributions, the variance is directly proportional to the mean. As the mean increases, so does the variance."
   ]
  },
  {
   "cell_type": "markdown",
   "id": "e482356f",
   "metadata": {},
   "source": [
    "# Q10. In normal distribution with respect to mean position, where does the least frequent data appear?\n",
    "\n",
    "Ans:\n",
    "* In a normal distribution, the data is symmetric around the mean. Therefore, the least frequent data appears at the extreme ends of the distribution, which are the values furthest away from the mean. These values are also known as the tails of the distribution.\n",
    "\n",
    "* More specifically, the normal distribution is a continuous probability distribution that is defined by its mean and standard deviation. The highest frequency of data is found at the mean, where the curve has its peak. As you move away from the mean in either direction, the frequency of data decreases gradually until you reach the tails of the distribution, where the frequency of data is the lowest.\n",
    "\n",
    "* The least frequent data appears at the tails of the distribution because the probability of getting a value at the extreme ends is much lower than the probability of getting a value closer to the mean. In fact, the probability of getting a value that is more than two standard deviations away from the mean is less than 5% in a normal distribution, which is considered to be an outlier"
   ]
  },
  {
   "cell_type": "code",
   "execution_count": null,
   "id": "550c3af9",
   "metadata": {},
   "outputs": [],
   "source": []
  }
 ],
 "metadata": {
  "kernelspec": {
   "display_name": "Python 3 (ipykernel)",
   "language": "python",
   "name": "python3"
  },
  "language_info": {
   "codemirror_mode": {
    "name": "ipython",
    "version": 3
   },
   "file_extension": ".py",
   "mimetype": "text/x-python",
   "name": "python",
   "nbconvert_exporter": "python",
   "pygments_lexer": "ipython3",
   "version": "3.11.0"
  }
 },
 "nbformat": 4,
 "nbformat_minor": 5
}
